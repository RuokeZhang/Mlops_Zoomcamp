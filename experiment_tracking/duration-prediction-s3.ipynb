{
 "cells": [
  {
   "cell_type": "code",
   "execution_count": 7,
   "id": "b2bd82d7",
   "metadata": {},
   "outputs": [
    {
     "name": "stdout",
     "output_type": "stream",
     "text": [
      "Python 3.13.5\n"
     ]
    }
   ],
   "source": [
    "!python -V"
   ]
  },
  {
   "cell_type": "code",
   "execution_count": 8,
   "id": "41062d8a",
   "metadata": {},
   "outputs": [
    {
     "name": "stdout",
     "output_type": "stream",
     "text": [
      "Requirement already satisfied: mlflow==3.1.1 in /Users/ruoke/.local/share/virtualenvs/experiment_tracking-Ge5DcM4i/lib/python3.13/site-packages (3.1.1)\n",
      "Requirement already satisfied: mlflow-skinny==3.1.1 in /Users/ruoke/.local/share/virtualenvs/experiment_tracking-Ge5DcM4i/lib/python3.13/site-packages (from mlflow==3.1.1) (3.1.1)\n",
      "Requirement already satisfied: Flask<4 in /Users/ruoke/.local/share/virtualenvs/experiment_tracking-Ge5DcM4i/lib/python3.13/site-packages (from mlflow==3.1.1) (3.1.1)\n",
      "Requirement already satisfied: alembic!=1.10.0,<2 in /Users/ruoke/.local/share/virtualenvs/experiment_tracking-Ge5DcM4i/lib/python3.13/site-packages (from mlflow==3.1.1) (1.16.2)\n",
      "Requirement already satisfied: docker<8,>=4.0.0 in /Users/ruoke/.local/share/virtualenvs/experiment_tracking-Ge5DcM4i/lib/python3.13/site-packages (from mlflow==3.1.1) (7.1.0)\n",
      "Requirement already satisfied: graphene<4 in /Users/ruoke/.local/share/virtualenvs/experiment_tracking-Ge5DcM4i/lib/python3.13/site-packages (from mlflow==3.1.1) (3.4.3)\n",
      "Requirement already satisfied: gunicorn<24 in /Users/ruoke/.local/share/virtualenvs/experiment_tracking-Ge5DcM4i/lib/python3.13/site-packages (from mlflow==3.1.1) (23.0.0)\n",
      "Requirement already satisfied: matplotlib<4 in /Users/ruoke/.local/share/virtualenvs/experiment_tracking-Ge5DcM4i/lib/python3.13/site-packages (from mlflow==3.1.1) (3.10.3)\n",
      "Requirement already satisfied: numpy<3 in /Users/ruoke/.local/share/virtualenvs/experiment_tracking-Ge5DcM4i/lib/python3.13/site-packages (from mlflow==3.1.1) (2.3.1)\n",
      "Requirement already satisfied: pandas<3 in /Users/ruoke/.local/share/virtualenvs/experiment_tracking-Ge5DcM4i/lib/python3.13/site-packages (from mlflow==3.1.1) (2.3.0)\n",
      "Requirement already satisfied: pyarrow<21,>=4.0.0 in /Users/ruoke/.local/share/virtualenvs/experiment_tracking-Ge5DcM4i/lib/python3.13/site-packages (from mlflow==3.1.1) (20.0.0)\n",
      "Requirement already satisfied: scikit-learn<2 in /Users/ruoke/.local/share/virtualenvs/experiment_tracking-Ge5DcM4i/lib/python3.13/site-packages (from mlflow==3.1.1) (1.7.0)\n",
      "Requirement already satisfied: scipy<2 in /Users/ruoke/.local/share/virtualenvs/experiment_tracking-Ge5DcM4i/lib/python3.13/site-packages (from mlflow==3.1.1) (1.16.0)\n",
      "Requirement already satisfied: sqlalchemy<3,>=1.4.0 in /Users/ruoke/.local/share/virtualenvs/experiment_tracking-Ge5DcM4i/lib/python3.13/site-packages (from mlflow==3.1.1) (2.0.41)\n",
      "Requirement already satisfied: cachetools<7,>=5.0.0 in /Users/ruoke/.local/share/virtualenvs/experiment_tracking-Ge5DcM4i/lib/python3.13/site-packages (from mlflow-skinny==3.1.1->mlflow==3.1.1) (5.5.2)\n",
      "Requirement already satisfied: click<9,>=7.0 in /Users/ruoke/.local/share/virtualenvs/experiment_tracking-Ge5DcM4i/lib/python3.13/site-packages (from mlflow-skinny==3.1.1->mlflow==3.1.1) (8.2.1)\n",
      "Requirement already satisfied: cloudpickle<4 in /Users/ruoke/.local/share/virtualenvs/experiment_tracking-Ge5DcM4i/lib/python3.13/site-packages (from mlflow-skinny==3.1.1->mlflow==3.1.1) (3.1.1)\n",
      "Requirement already satisfied: databricks-sdk<1,>=0.20.0 in /Users/ruoke/.local/share/virtualenvs/experiment_tracking-Ge5DcM4i/lib/python3.13/site-packages (from mlflow-skinny==3.1.1->mlflow==3.1.1) (0.57.0)\n",
      "Requirement already satisfied: fastapi<1 in /Users/ruoke/.local/share/virtualenvs/experiment_tracking-Ge5DcM4i/lib/python3.13/site-packages (from mlflow-skinny==3.1.1->mlflow==3.1.1) (0.115.14)\n",
      "Requirement already satisfied: gitpython<4,>=3.1.9 in /Users/ruoke/.local/share/virtualenvs/experiment_tracking-Ge5DcM4i/lib/python3.13/site-packages (from mlflow-skinny==3.1.1->mlflow==3.1.1) (3.1.44)\n",
      "Requirement already satisfied: importlib_metadata!=4.7.0,<9,>=3.7.0 in /Users/ruoke/.local/share/virtualenvs/experiment_tracking-Ge5DcM4i/lib/python3.13/site-packages (from mlflow-skinny==3.1.1->mlflow==3.1.1) (8.7.0)\n",
      "Requirement already satisfied: opentelemetry-api<3,>=1.9.0 in /Users/ruoke/.local/share/virtualenvs/experiment_tracking-Ge5DcM4i/lib/python3.13/site-packages (from mlflow-skinny==3.1.1->mlflow==3.1.1) (1.34.1)\n",
      "Requirement already satisfied: opentelemetry-sdk<3,>=1.9.0 in /Users/ruoke/.local/share/virtualenvs/experiment_tracking-Ge5DcM4i/lib/python3.13/site-packages (from mlflow-skinny==3.1.1->mlflow==3.1.1) (1.34.1)\n",
      "Requirement already satisfied: packaging<26 in /Users/ruoke/.local/share/virtualenvs/experiment_tracking-Ge5DcM4i/lib/python3.13/site-packages (from mlflow-skinny==3.1.1->mlflow==3.1.1) (25.0)\n",
      "Requirement already satisfied: protobuf<7,>=3.12.0 in /Users/ruoke/.local/share/virtualenvs/experiment_tracking-Ge5DcM4i/lib/python3.13/site-packages (from mlflow-skinny==3.1.1->mlflow==3.1.1) (6.31.1)\n",
      "Requirement already satisfied: pydantic<3,>=1.10.8 in /Users/ruoke/.local/share/virtualenvs/experiment_tracking-Ge5DcM4i/lib/python3.13/site-packages (from mlflow-skinny==3.1.1->mlflow==3.1.1) (2.11.7)\n",
      "Requirement already satisfied: pyyaml<7,>=5.1 in /Users/ruoke/.local/share/virtualenvs/experiment_tracking-Ge5DcM4i/lib/python3.13/site-packages (from mlflow-skinny==3.1.1->mlflow==3.1.1) (6.0.2)\n",
      "Requirement already satisfied: requests<3,>=2.17.3 in /Users/ruoke/.local/share/virtualenvs/experiment_tracking-Ge5DcM4i/lib/python3.13/site-packages (from mlflow-skinny==3.1.1->mlflow==3.1.1) (2.32.4)\n",
      "Requirement already satisfied: sqlparse<1,>=0.4.0 in /Users/ruoke/.local/share/virtualenvs/experiment_tracking-Ge5DcM4i/lib/python3.13/site-packages (from mlflow-skinny==3.1.1->mlflow==3.1.1) (0.5.3)\n",
      "Requirement already satisfied: typing-extensions<5,>=4.0.0 in /Users/ruoke/.local/share/virtualenvs/experiment_tracking-Ge5DcM4i/lib/python3.13/site-packages (from mlflow-skinny==3.1.1->mlflow==3.1.1) (4.14.0)\n",
      "Requirement already satisfied: uvicorn<1 in /Users/ruoke/.local/share/virtualenvs/experiment_tracking-Ge5DcM4i/lib/python3.13/site-packages (from mlflow-skinny==3.1.1->mlflow==3.1.1) (0.35.0)\n",
      "Requirement already satisfied: Mako in /Users/ruoke/.local/share/virtualenvs/experiment_tracking-Ge5DcM4i/lib/python3.13/site-packages (from alembic!=1.10.0,<2->mlflow==3.1.1) (1.3.10)\n",
      "Requirement already satisfied: google-auth~=2.0 in /Users/ruoke/.local/share/virtualenvs/experiment_tracking-Ge5DcM4i/lib/python3.13/site-packages (from databricks-sdk<1,>=0.20.0->mlflow-skinny==3.1.1->mlflow==3.1.1) (2.40.3)\n",
      "Requirement already satisfied: urllib3>=1.26.0 in /Users/ruoke/.local/share/virtualenvs/experiment_tracking-Ge5DcM4i/lib/python3.13/site-packages (from docker<8,>=4.0.0->mlflow==3.1.1) (2.5.0)\n",
      "Requirement already satisfied: starlette<0.47.0,>=0.40.0 in /Users/ruoke/.local/share/virtualenvs/experiment_tracking-Ge5DcM4i/lib/python3.13/site-packages (from fastapi<1->mlflow-skinny==3.1.1->mlflow==3.1.1) (0.46.2)\n",
      "Requirement already satisfied: blinker>=1.9.0 in /Users/ruoke/.local/share/virtualenvs/experiment_tracking-Ge5DcM4i/lib/python3.13/site-packages (from Flask<4->mlflow==3.1.1) (1.9.0)\n",
      "Requirement already satisfied: itsdangerous>=2.2.0 in /Users/ruoke/.local/share/virtualenvs/experiment_tracking-Ge5DcM4i/lib/python3.13/site-packages (from Flask<4->mlflow==3.1.1) (2.2.0)\n",
      "Requirement already satisfied: jinja2>=3.1.2 in /Users/ruoke/.local/share/virtualenvs/experiment_tracking-Ge5DcM4i/lib/python3.13/site-packages (from Flask<4->mlflow==3.1.1) (3.1.6)\n",
      "Requirement already satisfied: markupsafe>=2.1.1 in /Users/ruoke/.local/share/virtualenvs/experiment_tracking-Ge5DcM4i/lib/python3.13/site-packages (from Flask<4->mlflow==3.1.1) (3.0.2)\n",
      "Requirement already satisfied: werkzeug>=3.1.0 in /Users/ruoke/.local/share/virtualenvs/experiment_tracking-Ge5DcM4i/lib/python3.13/site-packages (from Flask<4->mlflow==3.1.1) (3.1.3)\n",
      "Requirement already satisfied: gitdb<5,>=4.0.1 in /Users/ruoke/.local/share/virtualenvs/experiment_tracking-Ge5DcM4i/lib/python3.13/site-packages (from gitpython<4,>=3.1.9->mlflow-skinny==3.1.1->mlflow==3.1.1) (4.0.12)\n",
      "Requirement already satisfied: smmap<6,>=3.0.1 in /Users/ruoke/.local/share/virtualenvs/experiment_tracking-Ge5DcM4i/lib/python3.13/site-packages (from gitdb<5,>=4.0.1->gitpython<4,>=3.1.9->mlflow-skinny==3.1.1->mlflow==3.1.1) (5.0.2)\n",
      "Requirement already satisfied: pyasn1-modules>=0.2.1 in /Users/ruoke/.local/share/virtualenvs/experiment_tracking-Ge5DcM4i/lib/python3.13/site-packages (from google-auth~=2.0->databricks-sdk<1,>=0.20.0->mlflow-skinny==3.1.1->mlflow==3.1.1) (0.4.2)\n",
      "Requirement already satisfied: rsa<5,>=3.1.4 in /Users/ruoke/.local/share/virtualenvs/experiment_tracking-Ge5DcM4i/lib/python3.13/site-packages (from google-auth~=2.0->databricks-sdk<1,>=0.20.0->mlflow-skinny==3.1.1->mlflow==3.1.1) (4.9.1)\n",
      "Requirement already satisfied: graphql-core<3.3,>=3.1 in /Users/ruoke/.local/share/virtualenvs/experiment_tracking-Ge5DcM4i/lib/python3.13/site-packages (from graphene<4->mlflow==3.1.1) (3.2.6)\n",
      "Requirement already satisfied: graphql-relay<3.3,>=3.1 in /Users/ruoke/.local/share/virtualenvs/experiment_tracking-Ge5DcM4i/lib/python3.13/site-packages (from graphene<4->mlflow==3.1.1) (3.2.0)\n",
      "Requirement already satisfied: python-dateutil<3,>=2.7.0 in /Users/ruoke/.local/share/virtualenvs/experiment_tracking-Ge5DcM4i/lib/python3.13/site-packages (from graphene<4->mlflow==3.1.1) (2.9.0.post0)\n",
      "Requirement already satisfied: zipp>=3.20 in /Users/ruoke/.local/share/virtualenvs/experiment_tracking-Ge5DcM4i/lib/python3.13/site-packages (from importlib_metadata!=4.7.0,<9,>=3.7.0->mlflow-skinny==3.1.1->mlflow==3.1.1) (3.23.0)\n",
      "Requirement already satisfied: contourpy>=1.0.1 in /Users/ruoke/.local/share/virtualenvs/experiment_tracking-Ge5DcM4i/lib/python3.13/site-packages (from matplotlib<4->mlflow==3.1.1) (1.3.2)\n",
      "Requirement already satisfied: cycler>=0.10 in /Users/ruoke/.local/share/virtualenvs/experiment_tracking-Ge5DcM4i/lib/python3.13/site-packages (from matplotlib<4->mlflow==3.1.1) (0.12.1)\n",
      "Requirement already satisfied: fonttools>=4.22.0 in /Users/ruoke/.local/share/virtualenvs/experiment_tracking-Ge5DcM4i/lib/python3.13/site-packages (from matplotlib<4->mlflow==3.1.1) (4.58.4)\n",
      "Requirement already satisfied: kiwisolver>=1.3.1 in /Users/ruoke/.local/share/virtualenvs/experiment_tracking-Ge5DcM4i/lib/python3.13/site-packages (from matplotlib<4->mlflow==3.1.1) (1.4.8)\n",
      "Requirement already satisfied: pillow>=8 in /Users/ruoke/.local/share/virtualenvs/experiment_tracking-Ge5DcM4i/lib/python3.13/site-packages (from matplotlib<4->mlflow==3.1.1) (11.2.1)\n",
      "Requirement already satisfied: pyparsing>=2.3.1 in /Users/ruoke/.local/share/virtualenvs/experiment_tracking-Ge5DcM4i/lib/python3.13/site-packages (from matplotlib<4->mlflow==3.1.1) (3.2.3)\n",
      "Requirement already satisfied: opentelemetry-semantic-conventions==0.55b1 in /Users/ruoke/.local/share/virtualenvs/experiment_tracking-Ge5DcM4i/lib/python3.13/site-packages (from opentelemetry-sdk<3,>=1.9.0->mlflow-skinny==3.1.1->mlflow==3.1.1) (0.55b1)\n",
      "Requirement already satisfied: pytz>=2020.1 in /Users/ruoke/.local/share/virtualenvs/experiment_tracking-Ge5DcM4i/lib/python3.13/site-packages (from pandas<3->mlflow==3.1.1) (2025.2)\n",
      "Requirement already satisfied: tzdata>=2022.7 in /Users/ruoke/.local/share/virtualenvs/experiment_tracking-Ge5DcM4i/lib/python3.13/site-packages (from pandas<3->mlflow==3.1.1) (2025.2)\n",
      "Requirement already satisfied: annotated-types>=0.6.0 in /Users/ruoke/.local/share/virtualenvs/experiment_tracking-Ge5DcM4i/lib/python3.13/site-packages (from pydantic<3,>=1.10.8->mlflow-skinny==3.1.1->mlflow==3.1.1) (0.7.0)\n",
      "Requirement already satisfied: pydantic-core==2.33.2 in /Users/ruoke/.local/share/virtualenvs/experiment_tracking-Ge5DcM4i/lib/python3.13/site-packages (from pydantic<3,>=1.10.8->mlflow-skinny==3.1.1->mlflow==3.1.1) (2.33.2)\n",
      "Requirement already satisfied: typing-inspection>=0.4.0 in /Users/ruoke/.local/share/virtualenvs/experiment_tracking-Ge5DcM4i/lib/python3.13/site-packages (from pydantic<3,>=1.10.8->mlflow-skinny==3.1.1->mlflow==3.1.1) (0.4.1)\n",
      "Requirement already satisfied: six>=1.5 in /Users/ruoke/.local/share/virtualenvs/experiment_tracking-Ge5DcM4i/lib/python3.13/site-packages (from python-dateutil<3,>=2.7.0->graphene<4->mlflow==3.1.1) (1.17.0)\n",
      "Requirement already satisfied: charset_normalizer<4,>=2 in /Users/ruoke/.local/share/virtualenvs/experiment_tracking-Ge5DcM4i/lib/python3.13/site-packages (from requests<3,>=2.17.3->mlflow-skinny==3.1.1->mlflow==3.1.1) (3.4.2)\n",
      "Requirement already satisfied: idna<4,>=2.5 in /Users/ruoke/.local/share/virtualenvs/experiment_tracking-Ge5DcM4i/lib/python3.13/site-packages (from requests<3,>=2.17.3->mlflow-skinny==3.1.1->mlflow==3.1.1) (3.10)\n",
      "Requirement already satisfied: certifi>=2017.4.17 in /Users/ruoke/.local/share/virtualenvs/experiment_tracking-Ge5DcM4i/lib/python3.13/site-packages (from requests<3,>=2.17.3->mlflow-skinny==3.1.1->mlflow==3.1.1) (2025.6.15)\n",
      "Requirement already satisfied: pyasn1>=0.1.3 in /Users/ruoke/.local/share/virtualenvs/experiment_tracking-Ge5DcM4i/lib/python3.13/site-packages (from rsa<5,>=3.1.4->google-auth~=2.0->databricks-sdk<1,>=0.20.0->mlflow-skinny==3.1.1->mlflow==3.1.1) (0.6.1)\n",
      "Requirement already satisfied: joblib>=1.2.0 in /Users/ruoke/.local/share/virtualenvs/experiment_tracking-Ge5DcM4i/lib/python3.13/site-packages (from scikit-learn<2->mlflow==3.1.1) (1.5.1)\n",
      "Requirement already satisfied: threadpoolctl>=3.1.0 in /Users/ruoke/.local/share/virtualenvs/experiment_tracking-Ge5DcM4i/lib/python3.13/site-packages (from scikit-learn<2->mlflow==3.1.1) (3.6.0)\n",
      "Requirement already satisfied: anyio<5,>=3.6.2 in /Users/ruoke/.local/share/virtualenvs/experiment_tracking-Ge5DcM4i/lib/python3.13/site-packages (from starlette<0.47.0,>=0.40.0->fastapi<1->mlflow-skinny==3.1.1->mlflow==3.1.1) (4.9.0)\n",
      "Requirement already satisfied: sniffio>=1.1 in /Users/ruoke/.local/share/virtualenvs/experiment_tracking-Ge5DcM4i/lib/python3.13/site-packages (from anyio<5,>=3.6.2->starlette<0.47.0,>=0.40.0->fastapi<1->mlflow-skinny==3.1.1->mlflow==3.1.1) (1.3.1)\n",
      "Requirement already satisfied: h11>=0.8 in /Users/ruoke/.local/share/virtualenvs/experiment_tracking-Ge5DcM4i/lib/python3.13/site-packages (from uvicorn<1->mlflow-skinny==3.1.1->mlflow==3.1.1) (0.16.0)\n",
      "Note: you may need to restart the kernel to use updated packages.\n"
     ]
    }
   ],
   "source": [
    "import pandas as pd\n",
    "\n",
    "%pip install --trusted-host pypi.org --trusted-host files.pythonhosted.org mlflow==3.1.1"
   ]
  },
  {
   "cell_type": "code",
   "execution_count": 9,
   "id": "c984c564",
   "metadata": {},
   "outputs": [],
   "source": [
    "import pickle"
   ]
  },
  {
   "cell_type": "code",
   "execution_count": 10,
   "id": "4add538c",
   "metadata": {},
   "outputs": [
    {
     "name": "stdout",
     "output_type": "stream",
     "text": [
      "Requirement already satisfied: seaborn in /Users/ruoke/.local/share/virtualenvs/experiment_tracking-Ge5DcM4i/lib/python3.13/site-packages (0.13.2)\n",
      "Requirement already satisfied: numpy!=1.24.0,>=1.20 in /Users/ruoke/.local/share/virtualenvs/experiment_tracking-Ge5DcM4i/lib/python3.13/site-packages (from seaborn) (2.3.1)\n",
      "Requirement already satisfied: pandas>=1.2 in /Users/ruoke/.local/share/virtualenvs/experiment_tracking-Ge5DcM4i/lib/python3.13/site-packages (from seaborn) (2.3.0)\n",
      "Requirement already satisfied: matplotlib!=3.6.1,>=3.4 in /Users/ruoke/.local/share/virtualenvs/experiment_tracking-Ge5DcM4i/lib/python3.13/site-packages (from seaborn) (3.10.3)\n",
      "Requirement already satisfied: contourpy>=1.0.1 in /Users/ruoke/.local/share/virtualenvs/experiment_tracking-Ge5DcM4i/lib/python3.13/site-packages (from matplotlib!=3.6.1,>=3.4->seaborn) (1.3.2)\n",
      "Requirement already satisfied: cycler>=0.10 in /Users/ruoke/.local/share/virtualenvs/experiment_tracking-Ge5DcM4i/lib/python3.13/site-packages (from matplotlib!=3.6.1,>=3.4->seaborn) (0.12.1)\n",
      "Requirement already satisfied: fonttools>=4.22.0 in /Users/ruoke/.local/share/virtualenvs/experiment_tracking-Ge5DcM4i/lib/python3.13/site-packages (from matplotlib!=3.6.1,>=3.4->seaborn) (4.58.4)\n",
      "Requirement already satisfied: kiwisolver>=1.3.1 in /Users/ruoke/.local/share/virtualenvs/experiment_tracking-Ge5DcM4i/lib/python3.13/site-packages (from matplotlib!=3.6.1,>=3.4->seaborn) (1.4.8)\n",
      "Requirement already satisfied: packaging>=20.0 in /Users/ruoke/.local/share/virtualenvs/experiment_tracking-Ge5DcM4i/lib/python3.13/site-packages (from matplotlib!=3.6.1,>=3.4->seaborn) (25.0)\n",
      "Requirement already satisfied: pillow>=8 in /Users/ruoke/.local/share/virtualenvs/experiment_tracking-Ge5DcM4i/lib/python3.13/site-packages (from matplotlib!=3.6.1,>=3.4->seaborn) (11.2.1)\n",
      "Requirement already satisfied: pyparsing>=2.3.1 in /Users/ruoke/.local/share/virtualenvs/experiment_tracking-Ge5DcM4i/lib/python3.13/site-packages (from matplotlib!=3.6.1,>=3.4->seaborn) (3.2.3)\n",
      "Requirement already satisfied: python-dateutil>=2.7 in /Users/ruoke/.local/share/virtualenvs/experiment_tracking-Ge5DcM4i/lib/python3.13/site-packages (from matplotlib!=3.6.1,>=3.4->seaborn) (2.9.0.post0)\n",
      "Requirement already satisfied: pytz>=2020.1 in /Users/ruoke/.local/share/virtualenvs/experiment_tracking-Ge5DcM4i/lib/python3.13/site-packages (from pandas>=1.2->seaborn) (2025.2)\n",
      "Requirement already satisfied: tzdata>=2022.7 in /Users/ruoke/.local/share/virtualenvs/experiment_tracking-Ge5DcM4i/lib/python3.13/site-packages (from pandas>=1.2->seaborn) (2025.2)\n",
      "Requirement already satisfied: six>=1.5 in /Users/ruoke/.local/share/virtualenvs/experiment_tracking-Ge5DcM4i/lib/python3.13/site-packages (from python-dateutil>=2.7->matplotlib!=3.6.1,>=3.4->seaborn) (1.17.0)\n",
      "Note: you may need to restart the kernel to use updated packages.\n"
     ]
    }
   ],
   "source": [
    "%pip install seaborn\n",
    "import seaborn as sns\n",
    "import matplotlib.pyplot as plt"
   ]
  },
  {
   "cell_type": "code",
   "execution_count": 11,
   "id": "8b135c2b",
   "metadata": {},
   "outputs": [],
   "source": [
    "from sklearn.feature_extraction import DictVectorizer\n",
    "from sklearn.linear_model import LinearRegression\n",
    "from sklearn.linear_model import Lasso\n",
    "from sklearn.linear_model import Ridge\n",
    "\n",
    "from sklearn.metrics import mean_squared_error"
   ]
  },
  {
   "cell_type": "code",
   "execution_count": 12,
   "id": "1464985f",
   "metadata": {},
   "outputs": [
    {
     "name": "stdout",
     "output_type": "stream",
     "text": [
      "实验创建成功，数据库已初始化\n"
     ]
    }
   ],
   "source": [
    "import mlflow\n",
    "import os\n",
    "\n",
    "os.environ[\"AWS_PROFILE\"] = \"dev\" # fill in with your AWS profile. More info: https://docs.aws.amazon.com/sdk-for-java/latest/developer-guide/setup.html#setup-credentials\n",
    "\n",
    "TRACKING_SERVER_HOST = \"44.212.1.183\" # fill in with the public DNS of the EC2 instance\n",
    "mlflow.set_tracking_uri(f\"http://{TRACKING_SERVER_HOST}:5000\")\n",
    "\n",
    "\n",
    "# 强制初始化数据库（创建实验）\n",
    "\n",
    "mlflow.set_experiment(\"nyc-taxi-experiment\")\n",
    "print(\"实验创建成功，数据库已初始化\")\n"
   ]
  },
  {
   "cell_type": "code",
   "execution_count": 13,
   "id": "f9e6479e",
   "metadata": {},
   "outputs": [],
   "source": [
    "def read_dataframe(filename):\n",
    "    df = pd.read_csv(filename)\n",
    "\n",
    "    df.lpep_dropoff_datetime = pd.to_datetime(df.lpep_dropoff_datetime)\n",
    "    df.lpep_pickup_datetime = pd.to_datetime(df.lpep_pickup_datetime)\n",
    "\n",
    "    df['duration'] = df.lpep_dropoff_datetime - df.lpep_pickup_datetime\n",
    "    df.duration = df.duration.apply(lambda td: td.total_seconds() / 60)\n",
    "\n",
    "    df = df[(df.duration >= 1) & (df.duration <= 60)]\n",
    "\n",
    "    categorical = ['PULocationID', 'DOLocationID']\n",
    "    df[categorical] = df[categorical].astype(str)\n",
    "    \n",
    "    return df"
   ]
  },
  {
   "cell_type": "code",
   "execution_count": 14,
   "id": "8029eba0",
   "metadata": {},
   "outputs": [
    {
     "name": "stderr",
     "output_type": "stream",
     "text": [
      "/var/folders/40/y3y5nqk55yn7cb9wd9v3z0pr0000gn/T/ipykernel_1085/3970424726.py:2: DtypeWarning: Columns (3) have mixed types. Specify dtype option on import or set low_memory=False.\n",
      "  df = pd.read_csv(filename)\n"
     ]
    }
   ],
   "source": [
    "df=read_dataframe('./data/taxi_tripdata.csv')\n",
    "#get df_train and df_val from df\n",
    "#by randomly splitting the data into 80% train and 20% validation\n",
    "df_train = df.sample(frac=0.8, random_state=42)\n",
    "df_val = df.drop(df_train.index)\n"
   ]
  },
  {
   "cell_type": "code",
   "execution_count": 15,
   "id": "f6f2f0eb",
   "metadata": {},
   "outputs": [
    {
     "data": {
      "text/plain": [
       "(63278, 15819)"
      ]
     },
     "execution_count": 15,
     "metadata": {},
     "output_type": "execute_result"
    }
   ],
   "source": [
    "len(df_train), len(df_val)"
   ]
  },
  {
   "cell_type": "code",
   "execution_count": 16,
   "id": "951d51ef",
   "metadata": {},
   "outputs": [],
   "source": [
    "df_train['PU_DO'] = df_train['PULocationID'] + '_' + df_train['DOLocationID']\n",
    "df_val['PU_DO'] = df_val['PULocationID'] + '_' + df_val['DOLocationID']"
   ]
  },
  {
   "cell_type": "code",
   "execution_count": 17,
   "id": "c5cbfc25",
   "metadata": {},
   "outputs": [],
   "source": [
    "categorical = ['PU_DO'] #'PULocationID', 'DOLocationID']\n",
    "numerical = ['trip_distance']\n",
    "\n",
    "dv = DictVectorizer()\n",
    "\n",
    "train_dicts = df_train[categorical + numerical].to_dict(orient='records')\n",
    "X_train = dv.fit_transform(train_dicts)\n",
    "\n",
    "val_dicts = df_val[categorical + numerical].to_dict(orient='records')\n",
    "X_val = dv.transform(val_dicts)"
   ]
  },
  {
   "cell_type": "code",
   "execution_count": 18,
   "id": "1e9fb68b",
   "metadata": {},
   "outputs": [],
   "source": [
    "target = 'duration'\n",
    "y_train = df_train[target].values\n",
    "y_val = df_val[target].values"
   ]
  },
  {
   "cell_type": "code",
   "execution_count": 19,
   "id": "429e2394",
   "metadata": {},
   "outputs": [
    {
     "data": {
      "text/plain": [
       "71.4230384882992"
      ]
     },
     "execution_count": 19,
     "metadata": {},
     "output_type": "execute_result"
    }
   ],
   "source": [
    "lr = LinearRegression()\n",
    "lr.fit(X_train, y_train)\n",
    "\n",
    "y_pred = lr.predict(X_val)\n",
    "\n",
    "mean_squared_error(y_val, y_pred)"
   ]
  },
  {
   "cell_type": "code",
   "execution_count": 20,
   "id": "22bf6f8b",
   "metadata": {},
   "outputs": [],
   "source": [
    "with open('models/lin_reg.bin', 'wb') as f_out:\n",
    "    pickle.dump((dv, lr), f_out)"
   ]
  },
  {
   "cell_type": "code",
   "execution_count": 21,
   "id": "a4999b94",
   "metadata": {},
   "outputs": [
    {
     "name": "stderr",
     "output_type": "stream",
     "text": [
      "2025/07/05 22:33:30 WARNING mlflow.models.model: `artifact_path` is deprecated. Please use `name` instead.\n",
      "\u001b[31m2025/07/05 22:33:35 WARNING mlflow.models.model: Model logged without a signature and input example. Please set `input_example` parameter when logging the model to auto infer the model signature.\u001b[0m\n"
     ]
    },
    {
     "name": "stdout",
     "output_type": "stream",
     "text": [
      "🏃 View run kindly-skunk-280 at: http://44.212.1.183:5000/#/experiments/2/runs/4d336aee28254fcabd6427c990cc9f7f\n",
      "🧪 View experiment at: http://44.212.1.183:5000/#/experiments/2\n"
     ]
    }
   ],
   "source": [
    "from sklearn.pipeline import Pipeline\n",
    "with mlflow.start_run():\n",
    "\n",
    "    mlflow.set_tag(\"developer\", \"cristian\")\n",
    "\n",
    "    mlflow.log_param(\"train-data-path\", \"./data/taxi_tripdata.csv\")\n",
    "    mlflow.log_param(\"valid-data-path\", \"./data/taxi_tripdata.csv\")\n",
    "\n",
    "    alpha = 0.1\n",
    "    mlflow.log_param(\"alpha\", alpha)\n",
    "    lr = Lasso(alpha)\n",
    "    lr.fit(X_train, y_train)\n",
    "\n",
    "    y_pred = lr.predict(X_val)\n",
    "    rmse = mean_squared_error(y_val, y_pred)\n",
    "    mlflow.log_metric(\"rmse\", rmse)\n",
    "\n",
    "    pipeline = Pipeline([\n",
    "    ('dv', dv),\n",
    "    ('model', lr)\n",
    "    ])\n",
    "    mlflow.sklearn.log_model(pipeline, 'lr_dv_model')\n",
    "    "
   ]
  },
  {
   "cell_type": "code",
   "execution_count": null,
   "id": "47b0eb9b",
   "metadata": {},
   "outputs": [],
   "source": []
  },
  {
   "cell_type": "code",
   "execution_count": 22,
   "id": "5f56e97b",
   "metadata": {},
   "outputs": [],
   "source": [
    "import xgboost as xgb"
   ]
  },
  {
   "cell_type": "code",
   "execution_count": 25,
   "id": "907dc6a2",
   "metadata": {},
   "outputs": [
    {
     "name": "stderr",
     "output_type": "stream",
     "text": [
      "/Users/ruoke/.local/share/virtualenvs/experiment_tracking-Ge5DcM4i/lib/python3.13/site-packages/hyperopt/atpe.py:19: UserWarning: pkg_resources is deprecated as an API. See https://setuptools.pypa.io/en/latest/pkg_resources.html. The pkg_resources package is slated for removal as early as 2025-11-30. Refrain from using this package or pin to Setuptools<81.\n",
      "  import pkg_resources\n"
     ]
    }
   ],
   "source": [
    "from hyperopt import fmin, tpe, hp, STATUS_OK, Trials\n",
    "from hyperopt.pyll import scope"
   ]
  },
  {
   "cell_type": "code",
   "execution_count": 26,
   "id": "091ab328",
   "metadata": {},
   "outputs": [],
   "source": [
    "train = xgb.DMatrix(X_train, label=y_train)\n",
    "valid = xgb.DMatrix(X_val, label=y_val)"
   ]
  },
  {
   "cell_type": "code",
   "execution_count": 27,
   "id": "c2d84b26",
   "metadata": {},
   "outputs": [],
   "source": [
    "def objective(params):\n",
    "    with mlflow.start_run():\n",
    "        mlflow.set_tag(\"model\", \"xgboost\")\n",
    "        mlflow.log_params(params)\n",
    "        booster = xgb.train(\n",
    "            params=params,\n",
    "            dtrain=train,\n",
    "            num_boost_round=10,\n",
    "            evals=[(valid, 'validation')],\n",
    "            early_stopping_rounds=50\n",
    "        )\n",
    "        y_pred = booster.predict(valid)\n",
    "        rmse = mean_squared_error(y_val, y_pred)\n",
    "        mlflow.log_metric(\"rmse\", rmse)\n",
    "\n",
    "    return {'loss': rmse, 'status': STATUS_OK}"
   ]
  },
  {
   "cell_type": "code",
   "execution_count": 28,
   "id": "6b1f77f5",
   "metadata": {},
   "outputs": [],
   "source": [
    "search_space = {\n",
    "    'max_depth': scope.int(hp.quniform('max_depth', 4, 100, 1)),\n",
    "    'learning_rate': hp.loguniform('learning_rate', -3, 0),\n",
    "    'reg_alpha': hp.loguniform('reg_alpha', -5, -1),\n",
    "    'reg_lambda': hp.loguniform('reg_lambda', -6, -1),\n",
    "    'min_child_weight': hp.loguniform('min_child_weight', -1, 3),\n",
    "    'objective': 'reg:linear',\n",
    "    'seed': 42\n",
    "}\n",
    "\n",
    "# best_result = fmin(\n",
    "#     fn=objective,\n",
    "#     space=search_space,\n",
    "#     algo=tpe.suggest,\n",
    "#     max_evals=50,\n",
    "#     trials=Trials()\n",
    "# )"
   ]
  },
  {
   "cell_type": "code",
   "execution_count": 29,
   "id": "fc4d5283",
   "metadata": {},
   "outputs": [],
   "source": [
    "mlflow.xgboost.autolog(disable=True)"
   ]
  },
  {
   "cell_type": "code",
   "execution_count": 30,
   "id": "0e8cd729",
   "metadata": {},
   "outputs": [
    {
     "name": "stderr",
     "output_type": "stream",
     "text": [
      "/Users/ruoke/.local/share/virtualenvs/experiment_tracking-Ge5DcM4i/lib/python3.13/site-packages/xgboost/callback.py:386: UserWarning: [22:35:30] WARNING: /Users/runner/work/xgboost/xgboost/src/objective/regression_obj.cu:250: reg:linear is now deprecated in favor of reg:squarederror.\n",
      "  self.starting_round = model.num_boosted_rounds()\n"
     ]
    },
    {
     "name": "stdout",
     "output_type": "stream",
     "text": [
      "[0]\tvalidation-rmse:11.85278\n",
      "[1]\tvalidation-rmse:11.09323\n",
      "[2]\tvalidation-rmse:10.43034\n",
      "[3]\tvalidation-rmse:9.85894\n",
      "[4]\tvalidation-rmse:9.36512\n",
      "[5]\tvalidation-rmse:8.93988\n",
      "[6]\tvalidation-rmse:8.57922\n",
      "[7]\tvalidation-rmse:8.26839\n",
      "[8]\tvalidation-rmse:8.00591\n",
      "[9]\tvalidation-rmse:7.78299\n",
      "[10]\tvalidation-rmse:7.59600\n",
      "[11]\tvalidation-rmse:7.43683\n",
      "[12]\tvalidation-rmse:7.30452\n",
      "[13]\tvalidation-rmse:7.19303\n",
      "[14]\tvalidation-rmse:7.10180\n",
      "[15]\tvalidation-rmse:7.02518\n",
      "[16]\tvalidation-rmse:6.95948\n",
      "[17]\tvalidation-rmse:6.90571\n",
      "[18]\tvalidation-rmse:6.86069\n",
      "[19]\tvalidation-rmse:6.82202\n",
      "[20]\tvalidation-rmse:6.78987\n",
      "[21]\tvalidation-rmse:6.76190\n",
      "[22]\tvalidation-rmse:6.73973\n",
      "[23]\tvalidation-rmse:6.71976\n",
      "[24]\tvalidation-rmse:6.70385\n",
      "[25]\tvalidation-rmse:6.69016\n",
      "[26]\tvalidation-rmse:6.67770\n",
      "[27]\tvalidation-rmse:6.66733\n",
      "[28]\tvalidation-rmse:6.65707\n",
      "[29]\tvalidation-rmse:6.64983\n",
      "[30]\tvalidation-rmse:6.64264\n",
      "[31]\tvalidation-rmse:6.63693\n",
      "[32]\tvalidation-rmse:6.63106\n",
      "[33]\tvalidation-rmse:6.62646\n",
      "[34]\tvalidation-rmse:6.62134\n",
      "[35]\tvalidation-rmse:6.61719\n",
      "[36]\tvalidation-rmse:6.61343\n",
      "[37]\tvalidation-rmse:6.61118\n",
      "[38]\tvalidation-rmse:6.60960\n",
      "[39]\tvalidation-rmse:6.60766\n",
      "[40]\tvalidation-rmse:6.60440\n",
      "[41]\tvalidation-rmse:6.60382\n",
      "[42]\tvalidation-rmse:6.60270\n",
      "[43]\tvalidation-rmse:6.60159\n",
      "[44]\tvalidation-rmse:6.60122\n",
      "[45]\tvalidation-rmse:6.60056\n",
      "[46]\tvalidation-rmse:6.59898\n",
      "[47]\tvalidation-rmse:6.59825\n",
      "[48]\tvalidation-rmse:6.59795\n",
      "[49]\tvalidation-rmse:6.59735\n",
      "[50]\tvalidation-rmse:6.59686\n",
      "[51]\tvalidation-rmse:6.59689\n",
      "[52]\tvalidation-rmse:6.59583\n",
      "[53]\tvalidation-rmse:6.59567\n",
      "[54]\tvalidation-rmse:6.59569\n",
      "[55]\tvalidation-rmse:6.59532\n",
      "[56]\tvalidation-rmse:6.59477\n",
      "[57]\tvalidation-rmse:6.59331\n",
      "[58]\tvalidation-rmse:6.59339\n",
      "[59]\tvalidation-rmse:6.59366\n",
      "[60]\tvalidation-rmse:6.59323\n",
      "[61]\tvalidation-rmse:6.59309\n",
      "[62]\tvalidation-rmse:6.59228\n",
      "[63]\tvalidation-rmse:6.59120\n",
      "[64]\tvalidation-rmse:6.58922\n",
      "[65]\tvalidation-rmse:6.58850\n",
      "[66]\tvalidation-rmse:6.58799\n",
      "[67]\tvalidation-rmse:6.58745\n",
      "[68]\tvalidation-rmse:6.58754\n",
      "[69]\tvalidation-rmse:6.58682\n",
      "[70]\tvalidation-rmse:6.58664\n",
      "[71]\tvalidation-rmse:6.58625\n",
      "[72]\tvalidation-rmse:6.58612\n",
      "[73]\tvalidation-rmse:6.58563\n",
      "[74]\tvalidation-rmse:6.58510\n",
      "[75]\tvalidation-rmse:6.58469\n",
      "[76]\tvalidation-rmse:6.58406\n",
      "[77]\tvalidation-rmse:6.58301\n",
      "[78]\tvalidation-rmse:6.58195\n",
      "[79]\tvalidation-rmse:6.58147\n",
      "[80]\tvalidation-rmse:6.58031\n",
      "[81]\tvalidation-rmse:6.57929\n",
      "[82]\tvalidation-rmse:6.57855\n",
      "[83]\tvalidation-rmse:6.57754\n",
      "[84]\tvalidation-rmse:6.57679\n",
      "[85]\tvalidation-rmse:6.57713\n",
      "[86]\tvalidation-rmse:6.57595\n",
      "[87]\tvalidation-rmse:6.57499\n",
      "[88]\tvalidation-rmse:6.57459\n",
      "[89]\tvalidation-rmse:6.57436\n",
      "[90]\tvalidation-rmse:6.57342\n",
      "[91]\tvalidation-rmse:6.57224\n",
      "[92]\tvalidation-rmse:6.57220\n",
      "[93]\tvalidation-rmse:6.57200\n",
      "[94]\tvalidation-rmse:6.57134\n",
      "[95]\tvalidation-rmse:6.57128\n",
      "[96]\tvalidation-rmse:6.57077\n",
      "[97]\tvalidation-rmse:6.57035\n",
      "[98]\tvalidation-rmse:6.56987\n",
      "[99]\tvalidation-rmse:6.56948\n",
      "[100]\tvalidation-rmse:6.56936\n",
      "[101]\tvalidation-rmse:6.56856\n",
      "[102]\tvalidation-rmse:6.56830\n",
      "[103]\tvalidation-rmse:6.56797\n",
      "[104]\tvalidation-rmse:6.56733\n",
      "[105]\tvalidation-rmse:6.56707\n",
      "[106]\tvalidation-rmse:6.56626\n",
      "[107]\tvalidation-rmse:6.56583\n",
      "[108]\tvalidation-rmse:6.56496\n",
      "[109]\tvalidation-rmse:6.56434\n",
      "[110]\tvalidation-rmse:6.56366\n",
      "[111]\tvalidation-rmse:6.56332\n",
      "[112]\tvalidation-rmse:6.56290\n",
      "[113]\tvalidation-rmse:6.56232\n",
      "[114]\tvalidation-rmse:6.56181\n",
      "[115]\tvalidation-rmse:6.56181\n",
      "[116]\tvalidation-rmse:6.56102\n",
      "[117]\tvalidation-rmse:6.56073\n",
      "[118]\tvalidation-rmse:6.56037\n",
      "[119]\tvalidation-rmse:6.55977\n",
      "[120]\tvalidation-rmse:6.56015\n",
      "[121]\tvalidation-rmse:6.55904\n",
      "[122]\tvalidation-rmse:6.55861\n",
      "[123]\tvalidation-rmse:6.55814\n",
      "[124]\tvalidation-rmse:6.55738\n",
      "[125]\tvalidation-rmse:6.55691\n",
      "[126]\tvalidation-rmse:6.55651\n",
      "[127]\tvalidation-rmse:6.55631\n",
      "[128]\tvalidation-rmse:6.55616\n",
      "[129]\tvalidation-rmse:6.55608\n",
      "[130]\tvalidation-rmse:6.55590\n",
      "[131]\tvalidation-rmse:6.55550\n",
      "[132]\tvalidation-rmse:6.55520\n",
      "[133]\tvalidation-rmse:6.55507\n",
      "[134]\tvalidation-rmse:6.55450\n",
      "[135]\tvalidation-rmse:6.55431\n",
      "[136]\tvalidation-rmse:6.55385\n",
      "[137]\tvalidation-rmse:6.55389\n",
      "[138]\tvalidation-rmse:6.55322\n",
      "[139]\tvalidation-rmse:6.55290\n",
      "[140]\tvalidation-rmse:6.55226\n",
      "[141]\tvalidation-rmse:6.55200\n",
      "[142]\tvalidation-rmse:6.55172\n",
      "[143]\tvalidation-rmse:6.55087\n",
      "[144]\tvalidation-rmse:6.55014\n",
      "[145]\tvalidation-rmse:6.54932\n",
      "[146]\tvalidation-rmse:6.54827\n",
      "[147]\tvalidation-rmse:6.54794\n",
      "[148]\tvalidation-rmse:6.54743\n",
      "[149]\tvalidation-rmse:6.54714\n",
      "[150]\tvalidation-rmse:6.54688\n",
      "[151]\tvalidation-rmse:6.54610\n",
      "[152]\tvalidation-rmse:6.54598\n",
      "[153]\tvalidation-rmse:6.54576\n",
      "[154]\tvalidation-rmse:6.54563\n",
      "[155]\tvalidation-rmse:6.54503\n",
      "[156]\tvalidation-rmse:6.54452\n",
      "[157]\tvalidation-rmse:6.54432\n",
      "[158]\tvalidation-rmse:6.54429\n",
      "[159]\tvalidation-rmse:6.54386\n",
      "[160]\tvalidation-rmse:6.54370\n",
      "[161]\tvalidation-rmse:6.54347\n",
      "[162]\tvalidation-rmse:6.54331\n",
      "[163]\tvalidation-rmse:6.54295\n",
      "[164]\tvalidation-rmse:6.54327\n",
      "[165]\tvalidation-rmse:6.54275\n",
      "[166]\tvalidation-rmse:6.54237\n",
      "[167]\tvalidation-rmse:6.54218\n",
      "[168]\tvalidation-rmse:6.54177\n",
      "[169]\tvalidation-rmse:6.54166\n",
      "[170]\tvalidation-rmse:6.54145\n",
      "[171]\tvalidation-rmse:6.54079\n",
      "[172]\tvalidation-rmse:6.54103\n",
      "[173]\tvalidation-rmse:6.54054\n",
      "[174]\tvalidation-rmse:6.53983\n",
      "[175]\tvalidation-rmse:6.53992\n",
      "[176]\tvalidation-rmse:6.54037\n",
      "[177]\tvalidation-rmse:6.54078\n",
      "[178]\tvalidation-rmse:6.54061\n",
      "[179]\tvalidation-rmse:6.54087\n",
      "[180]\tvalidation-rmse:6.54020\n",
      "[181]\tvalidation-rmse:6.53985\n",
      "[182]\tvalidation-rmse:6.53979\n",
      "[183]\tvalidation-rmse:6.53966\n",
      "[184]\tvalidation-rmse:6.53958\n",
      "[185]\tvalidation-rmse:6.53875\n",
      "[186]\tvalidation-rmse:6.53878\n",
      "[187]\tvalidation-rmse:6.53830\n",
      "[188]\tvalidation-rmse:6.53795\n",
      "[189]\tvalidation-rmse:6.53748\n",
      "[190]\tvalidation-rmse:6.53744\n",
      "[191]\tvalidation-rmse:6.53702\n",
      "[192]\tvalidation-rmse:6.53663\n",
      "[193]\tvalidation-rmse:6.53634\n",
      "[194]\tvalidation-rmse:6.53609\n",
      "[195]\tvalidation-rmse:6.53560\n",
      "[196]\tvalidation-rmse:6.53448\n",
      "[197]\tvalidation-rmse:6.53422\n",
      "[198]\tvalidation-rmse:6.53387\n",
      "[199]\tvalidation-rmse:6.53350\n",
      "[200]\tvalidation-rmse:6.53299\n",
      "[201]\tvalidation-rmse:6.53289\n",
      "[202]\tvalidation-rmse:6.53267\n",
      "[203]\tvalidation-rmse:6.53220\n",
      "[204]\tvalidation-rmse:6.53211\n",
      "[205]\tvalidation-rmse:6.53181\n",
      "[206]\tvalidation-rmse:6.53195\n",
      "[207]\tvalidation-rmse:6.53149\n",
      "[208]\tvalidation-rmse:6.53126\n",
      "[209]\tvalidation-rmse:6.53127\n",
      "[210]\tvalidation-rmse:6.53091\n",
      "[211]\tvalidation-rmse:6.53064\n",
      "[212]\tvalidation-rmse:6.53074\n",
      "[213]\tvalidation-rmse:6.53035\n",
      "[214]\tvalidation-rmse:6.53011\n",
      "[215]\tvalidation-rmse:6.52989\n",
      "[216]\tvalidation-rmse:6.52961\n",
      "[217]\tvalidation-rmse:6.52953\n",
      "[218]\tvalidation-rmse:6.52918\n",
      "[219]\tvalidation-rmse:6.52923\n",
      "[220]\tvalidation-rmse:6.52883\n",
      "[221]\tvalidation-rmse:6.52892\n",
      "[222]\tvalidation-rmse:6.52852\n",
      "[223]\tvalidation-rmse:6.52846\n",
      "[224]\tvalidation-rmse:6.52818\n",
      "[225]\tvalidation-rmse:6.52810\n",
      "[226]\tvalidation-rmse:6.52735\n",
      "[227]\tvalidation-rmse:6.52782\n",
      "[228]\tvalidation-rmse:6.52755\n",
      "[229]\tvalidation-rmse:6.52724\n",
      "[230]\tvalidation-rmse:6.52689\n",
      "[231]\tvalidation-rmse:6.52704\n",
      "[232]\tvalidation-rmse:6.52685\n",
      "[233]\tvalidation-rmse:6.52670\n",
      "[234]\tvalidation-rmse:6.52702\n",
      "[235]\tvalidation-rmse:6.52685\n",
      "[236]\tvalidation-rmse:6.52682\n",
      "[237]\tvalidation-rmse:6.52644\n",
      "[238]\tvalidation-rmse:6.52641\n",
      "[239]\tvalidation-rmse:6.52647\n",
      "[240]\tvalidation-rmse:6.52605\n",
      "[241]\tvalidation-rmse:6.52588\n",
      "[242]\tvalidation-rmse:6.52591\n",
      "[243]\tvalidation-rmse:6.52536\n",
      "[244]\tvalidation-rmse:6.52529\n",
      "[245]\tvalidation-rmse:6.52477\n",
      "[246]\tvalidation-rmse:6.52458\n",
      "[247]\tvalidation-rmse:6.52420\n",
      "[248]\tvalidation-rmse:6.52380\n",
      "[249]\tvalidation-rmse:6.52363\n",
      "[250]\tvalidation-rmse:6.52396\n",
      "[251]\tvalidation-rmse:6.52313\n",
      "[252]\tvalidation-rmse:6.52248\n",
      "[253]\tvalidation-rmse:6.52221\n",
      "[254]\tvalidation-rmse:6.52204\n",
      "[255]\tvalidation-rmse:6.52149\n",
      "[256]\tvalidation-rmse:6.52117\n",
      "[257]\tvalidation-rmse:6.52007\n",
      "[258]\tvalidation-rmse:6.51998\n",
      "[259]\tvalidation-rmse:6.51979\n",
      "[260]\tvalidation-rmse:6.51955\n",
      "[261]\tvalidation-rmse:6.51917\n",
      "[262]\tvalidation-rmse:6.51906\n",
      "[263]\tvalidation-rmse:6.51907\n",
      "[264]\tvalidation-rmse:6.51873\n",
      "[265]\tvalidation-rmse:6.51866\n",
      "[266]\tvalidation-rmse:6.51852\n",
      "[267]\tvalidation-rmse:6.51834\n",
      "[268]\tvalidation-rmse:6.51812\n",
      "[269]\tvalidation-rmse:6.51830\n",
      "[270]\tvalidation-rmse:6.51806\n",
      "[271]\tvalidation-rmse:6.51805\n",
      "[272]\tvalidation-rmse:6.51797\n",
      "[273]\tvalidation-rmse:6.51763\n",
      "[274]\tvalidation-rmse:6.51715\n",
      "[275]\tvalidation-rmse:6.51736\n",
      "[276]\tvalidation-rmse:6.51694\n",
      "[277]\tvalidation-rmse:6.51701\n",
      "[278]\tvalidation-rmse:6.51697\n",
      "[279]\tvalidation-rmse:6.51700\n",
      "[280]\tvalidation-rmse:6.51661\n",
      "[281]\tvalidation-rmse:6.51640\n",
      "[282]\tvalidation-rmse:6.51664\n",
      "[283]\tvalidation-rmse:6.51620\n",
      "[284]\tvalidation-rmse:6.51587\n",
      "[285]\tvalidation-rmse:6.51574\n",
      "[286]\tvalidation-rmse:6.51600\n",
      "[287]\tvalidation-rmse:6.51566\n",
      "[288]\tvalidation-rmse:6.51582\n",
      "[289]\tvalidation-rmse:6.51538\n",
      "[290]\tvalidation-rmse:6.51527\n",
      "[291]\tvalidation-rmse:6.51546\n",
      "[292]\tvalidation-rmse:6.51500\n",
      "[293]\tvalidation-rmse:6.51480\n",
      "[294]\tvalidation-rmse:6.51456\n",
      "[295]\tvalidation-rmse:6.51501\n",
      "[296]\tvalidation-rmse:6.51481\n",
      "[297]\tvalidation-rmse:6.51473\n",
      "[298]\tvalidation-rmse:6.51446\n",
      "[299]\tvalidation-rmse:6.51421\n",
      "[300]\tvalidation-rmse:6.51422\n",
      "[301]\tvalidation-rmse:6.51432\n",
      "[302]\tvalidation-rmse:6.51433\n",
      "[303]\tvalidation-rmse:6.51414\n",
      "[304]\tvalidation-rmse:6.51416\n",
      "[305]\tvalidation-rmse:6.51360\n",
      "[306]\tvalidation-rmse:6.51429\n",
      "[307]\tvalidation-rmse:6.51390\n",
      "[308]\tvalidation-rmse:6.51357\n",
      "[309]\tvalidation-rmse:6.51357\n",
      "[310]\tvalidation-rmse:6.51350\n",
      "[311]\tvalidation-rmse:6.51348\n",
      "[312]\tvalidation-rmse:6.51297\n",
      "[313]\tvalidation-rmse:6.51267\n",
      "[314]\tvalidation-rmse:6.51257\n",
      "[315]\tvalidation-rmse:6.51268\n",
      "[316]\tvalidation-rmse:6.51231\n",
      "[317]\tvalidation-rmse:6.51196\n",
      "[318]\tvalidation-rmse:6.51176\n",
      "[319]\tvalidation-rmse:6.51131\n",
      "[320]\tvalidation-rmse:6.51088\n",
      "[321]\tvalidation-rmse:6.51108\n",
      "[322]\tvalidation-rmse:6.51064\n",
      "[323]\tvalidation-rmse:6.51071\n",
      "[324]\tvalidation-rmse:6.51048\n",
      "[325]\tvalidation-rmse:6.51008\n",
      "[326]\tvalidation-rmse:6.50973\n",
      "[327]\tvalidation-rmse:6.50959\n",
      "[328]\tvalidation-rmse:6.50898\n",
      "[329]\tvalidation-rmse:6.50865\n"
     ]
    },
    {
     "name": "stderr",
     "output_type": "stream",
     "text": [
      "2025/07/05 22:35:42 WARNING mlflow.models.model: `artifact_path` is deprecated. Please use `name` instead.\n",
      "/Users/ruoke/.local/share/virtualenvs/experiment_tracking-Ge5DcM4i/lib/python3.13/site-packages/mlflow/xgboost/__init__.py:168: UserWarning: [22:35:46] WARNING: /Users/runner/work/xgboost/xgboost/src/c_api/c_api.cc:1427: Saving model in the UBJSON format as default.  You can use file extension: `json`, `ubj` or `deprecated` to choose between formats.\n",
      "  xgb_model.save_model(model_data_path)\n",
      "\u001b[31m2025/07/05 22:35:47 WARNING mlflow.models.model: Model logged without a signature and input example. Please set `input_example` parameter when logging the model to auto infer the model signature.\u001b[0m\n"
     ]
    },
    {
     "name": "stdout",
     "output_type": "stream",
     "text": [
      "🏃 View run delightful-stoat-365 at: http://44.212.1.183:5000/#/experiments/2/runs/1c461e9d25974faa9ebb09f49fbf1e79\n",
      "🧪 View experiment at: http://44.212.1.183:5000/#/experiments/2\n"
     ]
    }
   ],
   "source": [
    "with mlflow.start_run():\n",
    "    \n",
    "    train = xgb.DMatrix(X_train, label=y_train)\n",
    "    valid = xgb.DMatrix(X_val, label=y_val)\n",
    "\n",
    "    best_params = {\n",
    "        'learning_rate': 0.09585355369315604,\n",
    "        'max_depth': 30,\n",
    "        'min_child_weight': 1.060597050922164,\n",
    "        'objective': 'reg:linear',\n",
    "        'reg_alpha': 0.018060244040060163,\n",
    "        'reg_lambda': 0.011658731377413597,\n",
    "        'seed': 42\n",
    "    }\n",
    "\n",
    "    mlflow.log_params(best_params)\n",
    "\n",
    "    booster = xgb.train(\n",
    "        params=best_params,\n",
    "        dtrain=train,\n",
    "        num_boost_round=330,\n",
    "        evals=[(valid, 'validation')],\n",
    "        early_stopping_rounds=50\n",
    "    )\n",
    "\n",
    "    y_pred = booster.predict(valid)\n",
    "    rmse = mean_squared_error(y_val, y_pred)\n",
    "    mlflow.log_metric(\"rmse\", rmse)\n",
    "\n",
    "    with open(\"models/preprocessor.b\", \"wb\") as f_out:\n",
    "        pickle.dump(dv, f_out)\n",
    "    mlflow.log_artifact(\"models/preprocessor.b\", artifact_path=\"preprocessor\")\n",
    "\n",
    "\n",
    "    mlflow.xgboost.log_model(booster, artifact_path=\"models_mlflow\")"
   ]
  },
  {
   "cell_type": "code",
   "execution_count": null,
   "id": "c2108f4b",
   "metadata": {},
   "outputs": [
    {
     "ename": "",
     "evalue": "",
     "output_type": "error",
     "traceback": [
      "\u001b[1;31mRunning cells with 'experiment_tracking-Ge5DcM4i' requires the ipykernel package.\n",
      "\u001b[1;31mRun the following command to install 'ipykernel' into the Python environment. \n",
      "\u001b[1;31mCommand: '/Users/ruoke/.local/share/virtualenvs/experiment_tracking-Ge5DcM4i/bin/python3 -m pip install ipykernel -U --force-reinstall'"
     ]
    }
   ],
   "source": [
    "run_id='f5b4bd2300ec4943955d253603ec3e29'\n",
    "model_uri = f\"runs:/{run_id}/models_mlflow\"\n",
    "#register model\n",
    "mlflow.register_model(model_uri=model_uri, name=\"nyc-taxi-xgboost\")"
   ]
  },
  {
   "cell_type": "code",
   "execution_count": null,
   "id": "87614b82",
   "metadata": {},
   "outputs": [
    {
     "ename": "",
     "evalue": "",
     "output_type": "error",
     "traceback": [
      "\u001b[1;31mRunning cells with 'experiment_tracking-Ge5DcM4i' requires the ipykernel package.\n",
      "\u001b[1;31mRun the following command to install 'ipykernel' into the Python environment. \n",
      "\u001b[1;31mCommand: '/Users/ruoke/.local/share/virtualenvs/experiment_tracking-Ge5DcM4i/bin/python3 -m pip install ipykernel -U --force-reinstall'"
     ]
    }
   ],
   "source": [
    "from sklearn.ensemble import RandomForestRegressor, GradientBoostingRegressor, ExtraTreesRegressor\n",
    "from sklearn.svm import LinearSVR\n",
    "\n",
    "mlflow.sklearn.autolog()\n",
    "\n",
    "for model_class in (LinearSVR):\n",
    "\n",
    "    with mlflow.start_run():\n",
    "\n",
    "        mlflow.log_param(\"train-data-path\", \"./data/taxi_tripdata.csv\")\n",
    "        mlflow.log_param(\"valid-data-path\", \"./data/taxi_tripdata.csv\")\n",
    "        mlflow.log_artifact(\"models/preprocessor.b\", artifact_path=\"preprocessor\")\n",
    "\n",
    "        mlmodel = model_class()\n",
    "        mlmodel.fit(X_train, y_train)\n",
    "\n",
    "        y_pred = mlmodel.predict(X_val)\n",
    "        rmse = mean_squared_error(y_val, y_pred)\n",
    "        mlflow.log_metric(\"rmse\", rmse)\n",
    "\n",
    "        "
   ]
  },
  {
   "cell_type": "code",
   "execution_count": null,
   "id": "4c489ec5",
   "metadata": {},
   "outputs": [
    {
     "ename": "",
     "evalue": "",
     "output_type": "error",
     "traceback": [
      "\u001b[1;31mRunning cells with 'experiment_tracking-Ge5DcM4i' requires the ipykernel package.\n",
      "\u001b[1;31mRun the following command to install 'ipykernel' into the Python environment. \n",
      "\u001b[1;31mCommand: '/Users/ruoke/.local/share/virtualenvs/experiment_tracking-Ge5DcM4i/bin/python3 -m pip install ipykernel -U --force-reinstall'"
     ]
    }
   ],
   "source": []
  }
 ],
 "metadata": {
  "kernelspec": {
   "display_name": "experiment_tracking-8QLpu8TW",
   "language": "python",
   "name": "python3"
  },
  "language_info": {
   "codemirror_mode": {
    "name": "ipython",
    "version": 3
   },
   "file_extension": ".py",
   "mimetype": "text/x-python",
   "name": "python",
   "nbconvert_exporter": "python",
   "pygments_lexer": "ipython3",
   "version": "3.13.5"
  }
 },
 "nbformat": 4,
 "nbformat_minor": 5
}

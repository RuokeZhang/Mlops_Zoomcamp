{
 "cells": [
  {
   "cell_type": "code",
   "execution_count": 1,
   "id": "fb29d0a4",
   "metadata": {},
   "outputs": [],
   "source": [
    "import seaborn as sns\n",
    "import matplotlib.pyplot as plt\n",
    "import mlflow\n",
    "import mlflow.sklearn\n",
    "import pandas as pd\n",
    "from mlflow import MlflowClient"
   ]
  },
  {
   "cell_type": "code",
   "execution_count": 7,
   "id": "f6090887",
   "metadata": {},
   "outputs": [
    {
     "name": "stdout",
     "output_type": "stream",
     "text": [
      "Using MLflow tracking URI: sqlite:////Users/bytedance/Documents/ByteRAG/experiment_tracking/mlflow.db\n"
     ]
    }
   ],
   "source": [
    "from pathlib import Path\n",
    "\n",
    "try:\n",
    "    # 尝试获取当前脚本所在目录（适用于直接运行脚本）\n",
    "    project_root = Path(__file__).parent.resolve()\n",
    "except NameError:\n",
    "    # 如果 __file__ 未定义（如在 Notebook 中），使用当前工作目录\n",
    "    project_root = Path.cwd().resolve()\n",
    "\n",
    "\n",
    "\n",
    "# 步骤2：构造数据库路径（项目根目录下的mlflow.db）\n",
    "db_path = project_root / \"mlflow.db\"\n",
    "\n",
    "# 步骤3：转换为SQLite的URI格式（自动处理Windows/Linux路径差异）\n",
    "\n",
    "db_uri = f\"sqlite:///{db_path.as_posix()}\"\n",
    "print(f\"Using MLflow tracking URI: {db_uri}\")\n",
    "\n",
    "mlflow.set_tracking_uri(db_uri)"
   ]
  },
  {
   "cell_type": "code",
   "execution_count": 9,
   "id": "e6ea2a9d",
   "metadata": {},
   "outputs": [
    {
     "name": "stdout",
     "output_type": "stream",
     "text": [
      "<RegisteredModel: aliases={}, creation_timestamp=1751351685265, deployment_job_id=None, deployment_job_state=None, description='', last_updated_timestamp=1751351960220, latest_versions=[<ModelVersion: aliases=[], creation_timestamp=1751351960220, current_stage='None', deployment_job_state=None, description=None, last_updated_timestamp=1751351960220, metrics=None, model_id=None, name='nyc-taxi-xgboost', params=None, run_id='f5b4bd2300ec4943955d253603ec3e29', run_link=None, source='models:/m-a36aed9b6cff45a4863f07e38ef31f0d', status='READY', status_message=None, tags={}, user_id=None, version=2>], name='nyc-taxi-xgboost', tags={}>\n"
     ]
    }
   ],
   "source": [
    "client = MlflowClient()\n",
    "# Fetch experiment metadata information\n",
    "model_name = \"nyc-taxi-xgboost\"\n",
    "model= client.get_registered_model(model_name)\n",
    "print(model)"
   ]
  },
  {
   "cell_type": "code",
   "execution_count": 10,
   "id": "660ec0c6",
   "metadata": {},
   "outputs": [
    {
     "name": "stdout",
     "output_type": "stream",
     "text": [
      "Using model URI: models:/nyc-taxi-xgboost/2\n"
     ]
    }
   ],
   "source": [
    "#use the model to predict\n",
    "model_version = model.latest_versions[0].version\n",
    "model_uri = f\"models:/{model_name}/{model_version}\"\n",
    "print(f\"Using model URI: {model_uri}\")"
   ]
  }
 ],
 "metadata": {
  "kernelspec": {
   "display_name": "experiment_tracking-8QLpu8TW",
   "language": "python",
   "name": "python3"
  },
  "language_info": {
   "codemirror_mode": {
    "name": "ipython",
    "version": 3
   },
   "file_extension": ".py",
   "mimetype": "text/x-python",
   "name": "python",
   "nbconvert_exporter": "python",
   "pygments_lexer": "ipython3",
   "version": "3.13.5"
  }
 },
 "nbformat": 4,
 "nbformat_minor": 5
}
